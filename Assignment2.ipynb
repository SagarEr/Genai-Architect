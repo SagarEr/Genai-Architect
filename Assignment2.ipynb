{
 "cells": [
  {
   "cell_type": "code",
   "execution_count": 1,
   "id": "1a5f10de",
   "metadata": {},
   "outputs": [
    {
     "name": "stdout",
     "output_type": "stream",
     "text": [
      "\n",
      "\u001b[1m[\u001b[0m\u001b[34;49mnotice\u001b[0m\u001b[1;39;49m]\u001b[0m\u001b[39;49m A new release of pip is available: \u001b[0m\u001b[31;49m24.0\u001b[0m\u001b[39;49m -> \u001b[0m\u001b[32;49m25.2\u001b[0m\n",
      "\u001b[1m[\u001b[0m\u001b[34;49mnotice\u001b[0m\u001b[1;39;49m]\u001b[0m\u001b[39;49m To update, run: \u001b[0m\u001b[32;49mpip install --upgrade pip\u001b[0m\n"
     ]
    }
   ],
   "source": [
    "!python -m pip install langchain-community langchainhub langchain-chroma langchain langchain-experimental --quiet"
   ]
  },
  {
   "cell_type": "code",
   "execution_count": 2,
   "id": "538a03aa",
   "metadata": {},
   "outputs": [],
   "source": [
    "import os\n",
    "from langchain_google_genai import GoogleGenerativeAIEmbeddings\n",
    "from langchain.schema import Document\n",
    "\n",
    "embedding_model_name = \"models/gemini-embedding-001\"\n",
    "model_name = \"gemini-2.0-flash\"\n",
    "\n",
    "\n",
    "embeddings = GoogleGenerativeAIEmbeddings(model=embedding_model_name)\n"
   ]
  },
  {
   "cell_type": "code",
   "execution_count": 3,
   "id": "adfc6674",
   "metadata": {},
   "outputs": [
    {
     "data": {
      "text/html": [
       "<div>\n",
       "<style scoped>\n",
       "    .dataframe tbody tr th:only-of-type {\n",
       "        vertical-align: middle;\n",
       "    }\n",
       "\n",
       "    .dataframe tbody tr th {\n",
       "        vertical-align: top;\n",
       "    }\n",
       "\n",
       "    .dataframe thead th {\n",
       "        text-align: right;\n",
       "    }\n",
       "</style>\n",
       "<table border=\"1\" class=\"dataframe\">\n",
       "  <thead>\n",
       "    <tr style=\"text-align: right;\">\n",
       "      <th></th>\n",
       "      <th>course_id</th>\n",
       "      <th>title</th>\n",
       "      <th>description</th>\n",
       "    </tr>\n",
       "  </thead>\n",
       "  <tbody>\n",
       "    <tr>\n",
       "      <th>0</th>\n",
       "      <td>C001</td>\n",
       "      <td>Foundations of Machine Learning</td>\n",
       "      <td>Understand foundational machine learning algor...</td>\n",
       "    </tr>\n",
       "    <tr>\n",
       "      <th>1</th>\n",
       "      <td>C002</td>\n",
       "      <td>Deep Learning with TensorFlow and Keras</td>\n",
       "      <td>Explore neural network architectures using Ten...</td>\n",
       "    </tr>\n",
       "    <tr>\n",
       "      <th>2</th>\n",
       "      <td>C003</td>\n",
       "      <td>Natural Language Processing Fundamentals</td>\n",
       "      <td>Dive into NLP techniques for processing and un...</td>\n",
       "    </tr>\n",
       "    <tr>\n",
       "      <th>3</th>\n",
       "      <td>C004</td>\n",
       "      <td>Computer Vision and Image Processing</td>\n",
       "      <td>Learn the principles of computer vision and im...</td>\n",
       "    </tr>\n",
       "    <tr>\n",
       "      <th>4</th>\n",
       "      <td>C005</td>\n",
       "      <td>Reinforcement Learning Basics</td>\n",
       "      <td>Get introduced to reinforcement learning parad...</td>\n",
       "    </tr>\n",
       "  </tbody>\n",
       "</table>\n",
       "</div>"
      ],
      "text/plain": [
       "  course_id                                     title  \\\n",
       "0      C001           Foundations of Machine Learning   \n",
       "1      C002   Deep Learning with TensorFlow and Keras   \n",
       "2      C003  Natural Language Processing Fundamentals   \n",
       "3      C004      Computer Vision and Image Processing   \n",
       "4      C005             Reinforcement Learning Basics   \n",
       "\n",
       "                                         description  \n",
       "0  Understand foundational machine learning algor...  \n",
       "1  Explore neural network architectures using Ten...  \n",
       "2  Dive into NLP techniques for processing and un...  \n",
       "3  Learn the principles of computer vision and im...  \n",
       "4  Get introduced to reinforcement learning parad...  "
      ]
     },
     "execution_count": 3,
     "metadata": {},
     "output_type": "execute_result"
    }
   ],
   "source": [
    "import pandas as pd\n",
    "df = pd.read_csv('datasets/assignment2dataset.csv')\n",
    "df.head()"
   ]
  },
  {
   "cell_type": "code",
   "execution_count": 4,
   "id": "4b080f8a",
   "metadata": {},
   "outputs": [],
   "source": [
    "vector_db_path = \"VectorDB_Chroma\"\n",
    "os.makedirs(vector_db_path,exist_ok=True)"
   ]
  },
  {
   "cell_type": "code",
   "execution_count": 5,
   "id": "5188f160",
   "metadata": {},
   "outputs": [],
   "source": [
    "documents = []\n",
    "for _, row in df.iterrows():\n",
    "    content = f\"{row['title']}. {row['description']}\"\n",
    "    documents.append(\n",
    "        Document(\n",
    "            page_content=content,\n",
    "            metadata={\n",
    "                \"course_id\": row[\"course_id\"],\n",
    "                \"title\": row[\"title\"],\n",
    "                \"description\": row[\"description\"]\n",
    "            }\n",
    "        )\n",
    "    )\n"
   ]
  },
  {
   "cell_type": "code",
   "execution_count": 6,
   "id": "56af0c6d",
   "metadata": {},
   "outputs": [],
   "source": [
    "from langchain_chroma import Chroma\n",
    "vectorstore = Chroma.from_documents(\n",
    "    documents=documents,\n",
    "    embedding=embeddings,\n",
    "    persist_directory=vector_db_path,\n",
    "    collection_name=\"courses\",\n",
    "    collection_metadata={\"use_type\": \"TRAINING AND EXPERIMENTATION\"}\n",
    ")\n"
   ]
  },
  {
   "cell_type": "code",
   "execution_count": 7,
   "id": "f9eae4c9",
   "metadata": {},
   "outputs": [],
   "source": [
    "vectorstore = Chroma(\n",
    "    persist_directory=vector_db_path,\n",
    "    embedding_function=embeddings,\n",
    "    collection_name=\"courses\"\n",
    ")"
   ]
  },
  {
   "cell_type": "code",
   "execution_count": 21,
   "id": "f5aa149f",
   "metadata": {},
   "outputs": [],
   "source": [
    "retriever = vectorstore.as_retriever(search_type=\"similarity\", search_kwargs={\"k\": 5})\n"
   ]
  },
  {
   "cell_type": "code",
   "execution_count": 20,
   "id": "47656081",
   "metadata": {},
   "outputs": [
    {
     "data": {
      "text/plain": [
       "PromptTemplate(input_variables=['context', 'question'], input_types={}, partial_variables={}, template='\\nOnline learning platforms host thousands of courses across domains—learners often feel overwhelmed by choices. You are a personalized recommender that understands both course \\ncontent and individual learner profiles can boost engagement and completion rates by suggesting the most relevant next steps. Return the top-5 most relevant courses \\nfrom a catalog of course offerings.\\n{question}\\n\\nContext:\\n{context}\\n')"
      ]
     },
     "execution_count": 20,
     "metadata": {},
     "output_type": "execute_result"
    }
   ],
   "source": [
    "from langchain_core.prompts import PromptTemplate\n",
    "from langchain_core.runnables import RunnablePassthrough\n",
    "\n",
    "message = \"\"\"\n",
    "Online learning platforms host thousands of courses across domains—learners often feel overwhelmed by choices. You are a personalized recommender that understands both course \n",
    "content and individual learner profiles can boost engagement and completion rates by suggesting the most relevant next steps. Return the top-5 most relevant courses \n",
    "from a catalog of course offerings.\n",
    "{question}\n",
    "\n",
    "Context:\n",
    "{context}\n",
    "\"\"\"\n",
    "\n",
    "prompt = PromptTemplate.from_template(message)\n",
    "prompt"
   ]
  },
  {
   "cell_type": "code",
   "execution_count": 22,
   "id": "cd692a72",
   "metadata": {},
   "outputs": [],
   "source": [
    "from langchain.chat_models import init_chat_model\n",
    "llm = init_chat_model(model_name, model_provider=\"google_genai\")\n",
    "\n",
    "rag_chain = {\"context\": retriever, \"question\": RunnablePassthrough()} | prompt | llm"
   ]
  },
  {
   "cell_type": "code",
   "execution_count": 28,
   "id": "08a6b86b",
   "metadata": {},
   "outputs": [
    {
     "name": "stdout",
     "output_type": "stream",
     "text": [
      "Given your Python background and interest in SQL, here are the top 5 most relevant courses, focusing on leveraging SQL for data-related tasks:\n",
      "\n",
      "1.  **SQL for Data Analysis (C012):** This is the most direct recommendation.  Since you know Python, learning SQL will significantly expand your data analysis capabilities. This course covers essential SQL concepts like SELECT statements, JOINs, subqueries, window functions, and aggregate functions, all crucial for data manipulation and generating insights. The focus on PostgreSQL or MySQL provides practical experience.\n",
      "\n",
      "2.  **Big Data Analytics with Spark (C011):**  This is relevant because it includes \"Spark SQL\". Knowing SQL and Python, learning Spark SQL is a logical next step for working with large datasets.  The course also introduces PySpark, allowing you to leverage your Python skills within the Spark ecosystem.\n",
      "\n",
      "While the prompt only included two SQL-related courses, to provide 5 suggestions I will add three more that build upon SQL and Python skills.\n",
      "\n",
      "3.  **Data Engineering Fundamentals:** (Hypothetical Course) This course would cover ETL processes, data warehousing concepts, and building data pipelines.  SQL is a fundamental skill for data engineers, and your Python knowledge would be valuable for scripting and automating tasks within these pipelines.\n",
      "\n",
      "4.  **Database Management and Administration:** (Hypothetical Course) A course focusing on database administration (DBA) tasks, performance tuning, security, and backup/recovery.  While you may not want to become a full-time DBA, understanding these concepts is beneficial for anyone working with databases, especially when optimizing queries and ensuring data integrity.\n",
      "\n",
      "5.  **Advanced SQL and Database Design:** (Hypothetical Course) This could cover advanced SQL topics like stored procedures, triggers, user-defined functions, and complex query optimization techniques.  It would also delve into database design principles, normalization, and indexing strategies.\n",
      "\n",
      "These recommendations are based on the assumption that you want to leverage your Python skills to become proficient in data analysis and related fields. The SQL for Data Analysis course is the most immediate and relevant, while the others provide pathways to expand your knowledge into big data, data engineering, and database administration.\n"
     ]
    }
   ],
   "source": [
    "response = rag_chain.invoke(\"I know python, sugget me something in SQL\")\n",
    "\n",
    "print(response.content)"
   ]
  },
  {
   "cell_type": "code",
   "execution_count": 25,
   "id": "9362497f",
   "metadata": {},
   "outputs": [],
   "source": [
    "from typing import List, Tuple\n",
    "\n",
    "def recommend_courses(profile: str, completed_ids: List[str], top_k: int = 5) -> List[Tuple[str, float]]:\n",
    "    \"\"\"\n",
    "    Returns a list of (course_id, similarity_score) for the top-k recommendations.\n",
    "    \"\"\"\n",
    "    # Build query text\n",
    "    completed_titles = df[df[\"course_id\"].isin(completed_ids)][\"title\"].tolist()\n",
    "    query_text = \"\"\n",
    "    if completed_titles:\n",
    "        query_text += \"Completed: \" + \"; \".join(completed_titles) + \" \"\n",
    "    query_text += \"Interests: \" + profile\n",
    "\n",
    "    # Query vectorstore\n",
    "    results = vectorstore.similarity_search_with_score(query_text, k=top_k + len(completed_ids))\n",
    "\n",
    "    recs = []\n",
    "    for doc, score in results:\n",
    "        cid = doc.metadata[\"course_id\"]\n",
    "        if cid in completed_ids:\n",
    "            continue\n",
    "        recs.append((cid, score))\n",
    "        if len(recs) >= top_k:\n",
    "            break\n",
    "    return recs\n"
   ]
  },
  {
   "cell_type": "code",
   "execution_count": null,
   "id": "89a10a8c",
   "metadata": {},
   "outputs": [],
   "source": [
    "test_profiles = [\n",
    "    (\"I’ve completed the ‘Python Programming for Data Science’ course and enjoy data visualization. What should I take next?\", []),  \n",
    "    (\"I know Azure basics and want to manage containers and build CI/CD pipelines. Recommend courses.\", []),\n",
    "    (\"My background is in ML fundamentals; I’d like to specialize in neural networks and production workflows.\", []),\n",
    "    (\"I want to learn to build and deploy microservices with Kubernetes—what courses fit best?\", []),\n",
    "    (\"I’m interested in blockchain and smart contracts but have no prior experience. Which courses do you suggest?\", [])\n",
    "]"
   ]
  },
  {
   "cell_type": "code",
   "execution_count": 27,
   "id": "3893a071",
   "metadata": {},
   "outputs": [
    {
     "name": "stdout",
     "output_type": "stream",
     "text": [
      "\n",
      "=== Test Profile 1 ===\n",
      "Query: I’ve completed the ‘Python Programming for Data Science’ course and enjoy data visualization. What should I take next?\n",
      "Completed IDs: []\n",
      "Top Recommendations:\n",
      "  - Python Programming for Data Science (score=0.2442)\n",
      "  - Python Programming for Data Science (score=0.2442)\n",
      "  - Data Visualization with Tableau (score=0.2974)\n",
      "  - Data Visualization with Tableau (score=0.2974)\n",
      "  - R Programming and Statistical Analysis (score=0.3596)\n",
      "\n",
      "=== Test Profile 2 ===\n",
      "Query: I know Azure basics and want to manage containers and build CI/CD pipelines. Recommend courses.\n",
      "Completed IDs: []\n",
      "Top Recommendations:\n",
      "  - Cloud Computing with Azure (score=0.2952)\n",
      "  - Cloud Computing with Azure (score=0.2952)\n",
      "  - Containerization with Docker and Kubernetes (score=0.3074)\n",
      "  - Containerization with Docker and Kubernetes (score=0.3074)\n",
      "  - DevOps Practices and CI/CD (score=0.3251)\n",
      "\n",
      "=== Test Profile 3 ===\n",
      "Query: My background is in ML fundamentals; I’d like to specialize in neural networks and production workflows.\n",
      "Completed IDs: []\n",
      "Top Recommendations:\n",
      "  - MLOps: Productionizing Machine Learning (score=0.3226)\n",
      "  - MLOps: Productionizing Machine Learning (score=0.3226)\n",
      "  - Deep Learning with TensorFlow and Keras (score=0.3310)\n",
      "  - Deep Learning with TensorFlow and Keras (score=0.3310)\n",
      "  - Reinforcement Learning Basics (score=0.3429)\n",
      "\n",
      "=== Test Profile 4 ===\n",
      "Query: I want to learn to build and deploy microservices with Kubernetes—what courses fit best?\n",
      "Completed IDs: []\n",
      "Top Recommendations:\n",
      "  - Containerization with Docker and Kubernetes (score=0.2430)\n",
      "  - Containerization with Docker and Kubernetes (score=0.2430)\n",
      "  - APIs and Microservices Architecture (score=0.3112)\n",
      "  - APIs and Microservices Architecture (score=0.3112)\n",
      "  - DevOps Practices and CI/CD (score=0.3422)\n",
      "\n",
      "=== Test Profile 5 ===\n",
      "Query: I’m interested in blockchain and smart contracts but have no prior experience. Which courses do you suggest?\n",
      "Completed IDs: []\n",
      "Top Recommendations:\n",
      "  - Blockchain Technology and Smart Contracts (score=0.2256)\n",
      "  - Blockchain Technology and Smart Contracts (score=0.2256)\n",
      "  - Cybersecurity Fundamentals (score=0.3845)\n",
      "  - Cybersecurity Fundamentals (score=0.3845)\n",
      "  - Augmented and Virtual Reality Development (score=0.3958)\n"
     ]
    }
   ],
   "source": [
    "for i, (profile, completed) in enumerate(test_profiles, 1):\n",
    "    recs = recommend_courses(profile, completed, top_k=5)\n",
    "    print(f\"\\n=== Test Profile {i} ===\")\n",
    "    print(\"Query:\", profile)\n",
    "    print(\"Completed IDs:\", completed)\n",
    "    print(\"Top Recommendations:\")\n",
    "    for cid, score in recs:\n",
    "        row = df[df[\"course_id\"] == cid].iloc[0]\n",
    "        print(f\"  - {row['title']} (score={score:.4f})\")\n"
   ]
  }
 ],
 "metadata": {
  "kernelspec": {
   "display_name": "genai",
   "language": "python",
   "name": "python3"
  },
  "language_info": {
   "codemirror_mode": {
    "name": "ipython",
    "version": 3
   },
   "file_extension": ".py",
   "mimetype": "text/x-python",
   "name": "python",
   "nbconvert_exporter": "python",
   "pygments_lexer": "ipython3",
   "version": "3.11.13"
  }
 },
 "nbformat": 4,
 "nbformat_minor": 5
}
