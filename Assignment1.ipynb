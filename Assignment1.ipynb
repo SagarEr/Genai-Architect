{
 "cells": [
  {
   "cell_type": "code",
   "execution_count": null,
   "id": "12257f5f",
   "metadata": {},
   "outputs": [],
   "source": [
    "#https://github.com/SagarEr/Genai-Architect"
   ]
  },
  {
   "cell_type": "code",
   "execution_count": 58,
   "id": "d883ea46",
   "metadata": {},
   "outputs": [
    {
     "name": "stdout",
     "output_type": "stream",
     "text": [
      "\n",
      "\u001b[1m[\u001b[0m\u001b[34;49mnotice\u001b[0m\u001b[1;39;49m]\u001b[0m\u001b[39;49m A new release of pip is available: \u001b[0m\u001b[31;49m24.0\u001b[0m\u001b[39;49m -> \u001b[0m\u001b[32;49m25.2\u001b[0m\n",
      "\u001b[1m[\u001b[0m\u001b[34;49mnotice\u001b[0m\u001b[1;39;49m]\u001b[0m\u001b[39;49m To update, run: \u001b[0m\u001b[32;49mpip install --upgrade pip\u001b[0m\n",
      "\n",
      "\u001b[1m[\u001b[0m\u001b[34;49mnotice\u001b[0m\u001b[1;39;49m]\u001b[0m\u001b[39;49m A new release of pip is available: \u001b[0m\u001b[31;49m24.0\u001b[0m\u001b[39;49m -> \u001b[0m\u001b[32;49m25.2\u001b[0m\n",
      "\u001b[1m[\u001b[0m\u001b[34;49mnotice\u001b[0m\u001b[1;39;49m]\u001b[0m\u001b[39;49m To update, run: \u001b[0m\u001b[32;49mpip install --upgrade pip\u001b[0m\n"
     ]
    }
   ],
   "source": [
    "!python -m pip install langchain langchain-core langchain-community langchain-experimental langchain-exa --quiet\n",
    "!python -m pip install -U langchain-google-genai --quiet"
   ]
  },
  {
   "cell_type": "code",
   "execution_count": 59,
   "id": "a31f151b",
   "metadata": {},
   "outputs": [],
   "source": [
    "model_name = \"gemini-2.0-flash\""
   ]
  },
  {
   "cell_type": "code",
   "execution_count": 60,
   "id": "78d0f91d",
   "metadata": {},
   "outputs": [],
   "source": [
    "import mlflow\n",
    "mlflow.set_tracking_uri(\"http://20.75.92.162:5000/\")\n",
    "mlflow.set_experiment(\"gcp-testing-sagar-assignment1\")\n",
    "mlflow.gemini.autolog()"
   ]
  },
  {
   "cell_type": "code",
   "execution_count": 61,
   "id": "9b0b504c",
   "metadata": {},
   "outputs": [
    {
     "name": "stderr",
     "output_type": "stream",
     "text": [
      "2025/09/13 19:06:58 INFO mlflow.store.model_registry.abstract_store: Waiting up to 300 seconds for prompt version to finish creation. Prompt name: gcp-sagar-assignment1, version 3\n"
     ]
    },
    {
     "name": "stdout",
     "output_type": "stream",
     "text": [
      "Please enter Company name as an input on the top bar\n",
      "GOOG\n"
     ]
    }
   ],
   "source": [
    "from langchain.chat_models import init_chat_model\n",
    "from langchain_core.prompts import ChatPromptTemplate\n",
    "from langchain_core.output_parsers import StrOutputParser\n",
    "\n",
    "parser = StrOutputParser()\n",
    "\n",
    "model = init_chat_model(model_name, model_provider=\"google_genai\")\n",
    "system_prompt = \"What is the stock code for given company? Only give stock code and don't generate any other thing\"\n",
    "prompt_temp = ChatPromptTemplate([(\"system\",system_prompt),(\"user\",\"{company}\")])\n",
    "prompt = mlflow.genai.register_prompt(\n",
    "    name=\"gcp-sagar-assignment1\",\n",
    "    template=prompt_temp,\n",
    ")\n",
    "analyze_chain = prompt_temp | model | parser\n",
    "print(\"Please enter Company name as an input on the top bar\")\n",
    "company_name = input(\"Enter a company name\")\n",
    "stock_code = analyze_chain.invoke({\"company\":company_name})\n",
    "mlflow.log_param(\"Stock Code\", stock_code)\n",
    "print(stock_code)"
   ]
  },
  {
   "cell_type": "code",
   "execution_count": null,
   "id": "8786f9b1",
   "metadata": {},
   "outputs": [],
   "source": [
    "from langchain_exa import ExaSearchResults\n",
    "import os\n",
    "from dotenv import load_dotenv\n",
    "load_dotenv()\n",
    "#Initialize the ExaSearchResults tool\n",
    "search_tool = ExaSearchResults(exa_api_key=os.getenv('EXA_API_KEY'))\n",
    "\n",
    "\n",
    "search_results = search_tool._run(\n",
    "    query=f\"Give the detailed news about the company with stock code {stock_code}\",\n",
    "    num_results=50,  # Number of results (1-100)\n",
    "    type=\"auto\",  # Can be \"neural\", \"keyword\", or \"auto\"\n",
    "    livecrawl=\"always\",  # Can be \"always\", \"fallback\", or \"never\"\n",
    "    text_contents_options={\"max_characters\": 20000},  # Limit text length\n",
    "    summary={\"query\": \"Give a detailed summary about it and include people, place, company and industry names as well\"},  # Custom summary prompt\n",
    ")\n",
    "mlflow.log_param(\"News\", search_results)\n",
    "\n",
    "#print(\"Search Results:\", search_results)"
   ]
  },
  {
   "cell_type": "code",
   "execution_count": 63,
   "id": "45215868",
   "metadata": {},
   "outputs": [
    {
     "name": "stdout",
     "output_type": "stream",
     "text": [
      "{\n",
      "  \"company_name\": \"Alphabet Inc.\",\n",
      "  \"stock_code\": \"GOOG\",\n",
      "  \"newsdesc\": \"Alphabet Inc. (GOOG) is a leading technology company specializing in internet-related services and products. Its current stock price is near $240. Its next earnings release is scheduled for October 28, 2025. Alphabet reported an earnings per share (EPS) of $2.31 which represents a beat of analyst forecast a $2.20 per share. The 54 analysts providing 12-month price projections for Alphabet, Inc. shares anticipate an average target of $227.62, ranging from a low estimate of $185.00 to a high estimate of $270.00.\",\n",
      "  \"sentiment\": \"Positive\",\n",
      "  \"people_names\": [\n",
      "    \"Larry Page\",\n",
      "    \"Sergey Brin\",\n",
      "    \"Sundar Pichai\"\n",
      "  ],\n",
      "  \"places_names\": [\n",
      "    \"Mountain View, California\",\n",
      "    \"California\"\n",
      "  ],\n",
      "  \"other_companies_referred\": [\n",
      "    \"Meta Platforms, Inc.\",\n",
      "    \"Netflix, Inc.\",\n",
      "    \"Pinterest, Inc.\",\n",
      "    \"Snap, Inc.\",\n",
      "    \"Adobe\",\n",
      "    \"Visa\",\n",
      "    \"United Airlines\",\n",
      "    \"Amazon\",\n",
      "    \"Microsoft\",\n",
      "    \"OpenAI\"\n",
      "  ],\n",
      "  \"related_industries\": [\n",
      "    \"Technology\",\n",
      "    \"Internet Services\",\n",
      "    \"Advertising\",\n",
      "    \"Tech Innovations\"\n",
      "  ],\n",
      "  \"market_implications\": \"The positive earnings report and analyst sentiment suggest confidence in Alphabet's long-term prospects. However, the average analyst price target indicates a potential decline, suggesting caution.\",\n",
      "  \"confidence_score\": 95\n",
      "}\n"
     ]
    },
    {
     "data": {
      "text/html": [
       "\n",
       "<div>\n",
       "  <style scoped>\n",
       "  button {\n",
       "    border: none;\n",
       "    border-radius: 4px;\n",
       "    background-color: rgb(34, 114, 180);\n",
       "    font-family: -apple-system, \"system-ui\", \"Segoe UI\", Roboto, \"Helvetica Neue\", Arial;\n",
       "    font-size: 13px;\n",
       "    color: white;\n",
       "    margin-top: 8px;\n",
       "    margin-bottom: 8px;\n",
       "    padding: 8px 16px;\n",
       "    cursor: pointer;\n",
       "  }\n",
       "  button:hover {\n",
       "    background-color: rgb(66, 153, 224);\n",
       "  }\n",
       "  </style>\n",
       "  <button\n",
       "    onclick=\"\n",
       "        const display = this.nextElementSibling.style.display;\n",
       "        const isCollapsed = display === 'none';\n",
       "        this.nextElementSibling.style.display = isCollapsed ? null : 'none';\n",
       "\n",
       "        const verb = isCollapsed ? 'Collapse' : 'Expand';\n",
       "        this.innerText = `${verb} MLflow Trace`;\n",
       "    \"\n",
       "  >Collapse MLflow Trace</button>\n",
       "  <iframe\n",
       "    id=\"trace-renderer\"\n",
       "    style=\"width: 100%; height: 500px; border: none; resize: vertical;\"\n",
       "    src=\"http://20.75.92.162:5000/static-files/lib/notebook-trace-renderer/index.html?trace_id=tr-ce3d20a339c6633cdd4af90ee272cbfd&amp;experiment_id=537036550213390543&amp;version=3.3.2\"\n",
       "  />\n",
       "</div>\n"
      ],
      "text/plain": [
       "Trace(trace_id=tr-ce3d20a339c6633cdd4af90ee272cbfd)"
      ]
     },
     "metadata": {},
     "output_type": "display_data"
    }
   ],
   "source": [
    "from pydantic import BaseModel\n",
    "from google import genai\n",
    "from google.genai.types import GenerateContentConfig\n",
    "from typing import Literal\n",
    "import json\n",
    "\n",
    "class News(BaseModel):\n",
    "    company_name: str\n",
    "    stock_code: str\n",
    "    newsdesc: str\n",
    "    sentiment: Literal[\"Positive\",\"Negative\",\"Neutral\"]\n",
    "    people_names: list\n",
    "    places_names: list\n",
    "    other_companies_referred: list\n",
    "    related_industries: list\n",
    "    market_implications: str\n",
    "    confidence_score: int \n",
    "\n",
    "\n",
    "client = genai.Client()\n",
    "response = client.models.generate_content(\n",
    "    model=model_name,\n",
    "    contents=f\"Summarize this news {search_results} and do the sentiment analysis. Only refer to the information provided and don't add anything by yourself.\",\n",
    "    config=GenerateContentConfig(\n",
    "        response_mime_type=\"application/json\",\n",
    "        response_schema=News,\n",
    "    ),\n",
    ")\n",
    "mlflow.log_param(\"Sentiment\", response.text)\n",
    "print(response.text)"
   ]
  }
 ],
 "metadata": {
  "kernelspec": {
   "display_name": "genai",
   "language": "python",
   "name": "python3"
  },
  "language_info": {
   "codemirror_mode": {
    "name": "ipython",
    "version": 3
   },
   "file_extension": ".py",
   "mimetype": "text/x-python",
   "name": "python",
   "nbconvert_exporter": "python",
   "pygments_lexer": "ipython3",
   "version": "3.11.13"
  }
 },
 "nbformat": 4,
 "nbformat_minor": 5
}
