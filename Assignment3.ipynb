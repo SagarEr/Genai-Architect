{
 "cells": [
  {
   "cell_type": "code",
   "execution_count": 1,
   "id": "cdc6af42",
   "metadata": {},
   "outputs": [
    {
     "name": "stdout",
     "output_type": "stream",
     "text": [
      "\n",
      "\u001b[1m[\u001b[0m\u001b[34;49mnotice\u001b[0m\u001b[1;39;49m]\u001b[0m\u001b[39;49m A new release of pip is available: \u001b[0m\u001b[31;49m24.0\u001b[0m\u001b[39;49m -> \u001b[0m\u001b[32;49m25.2\u001b[0m\n",
      "\u001b[1m[\u001b[0m\u001b[34;49mnotice\u001b[0m\u001b[1;39;49m]\u001b[0m\u001b[39;49m To update, run: \u001b[0m\u001b[32;49mpip install --upgrade pip\u001b[0m\n"
     ]
    }
   ],
   "source": [
    "!python -m pip install pinecone sentence-transformers langchain-pinecone langchain langchain-huggingface --quiet"
   ]
  },
  {
   "cell_type": "code",
   "execution_count": 2,
   "id": "41976262",
   "metadata": {},
   "outputs": [
    {
     "name": "stderr",
     "output_type": "stream",
     "text": [
      "/home/zadmin/Desktop/test/GAAI-B5-GCP/genai/lib/python3.11/site-packages/tqdm/auto.py:21: TqdmWarning: IProgress not found. Please update jupyter and ipywidgets. See https://ipywidgets.readthedocs.io/en/stable/user_install.html\n",
      "  from .autonotebook import tqdm as notebook_tqdm\n"
     ]
    },
    {
     "name": "stdout",
     "output_type": "stream",
     "text": [
      "768\n"
     ]
    }
   ],
   "source": [
    "from langchain_google_genai import GoogleGenerativeAIEmbeddings\n",
    "\n",
    "embeddings = GoogleGenerativeAIEmbeddings(\n",
    "    model=\"models/embedding-001\"\n",
    ")\n",
    "\n",
    "print(len(embeddings.embed_query(\"hello world\")))"
   ]
  },
  {
   "cell_type": "code",
   "execution_count": 3,
   "id": "e76d8fe3",
   "metadata": {},
   "outputs": [],
   "source": [
    "import os\n",
    "import json\n",
    "import logging\n",
    "from typing import List, Tuple, Dict, Any, Optional, TypedDict\n",
    "import pinecone\n",
    "from langchain.llms import VertexAI\n",
    "\n",
    "from pinecone import Pinecone, ServerlessSpec\n",
    "from langchain.schema import Document\n",
    "from langchain_google_genai import GoogleGenerativeAIEmbeddings"
   ]
  },
  {
   "cell_type": "code",
   "execution_count": 14,
   "id": "3d9ddc3d",
   "metadata": {},
   "outputs": [],
   "source": [
    "# Config\n",
    "JSON_FILE = \"datasets/self_critique_loop_dataset.json\"\n",
    "EMBED_MODEL = \"models/embedding-001\"\n",
    "INDEX_NAME = \"assignment-sagar\"\n",
    "os.environ['PINECONE_API_KEY'] = \"pcsk_23rEUe_E7CHN2368jN9x1dE8k4sac9kX6UPQ4h1tLTbBV8HfEXW6DJCVFzKLfKMMdfWcTM\"\n",
    "\n",
    "\n",
    "PINECONE_API_KEY = os.getenv(\"PINECONE_API_KEY\")"
   ]
  },
  {
   "cell_type": "code",
   "execution_count": 5,
   "id": "6e9a4fb8",
   "metadata": {},
   "outputs": [],
   "source": [
    "# Logging setup\n",
    "logging.basicConfig(\n",
    "    level=logging.INFO,\n",
    "    format=\"%(asctime)s - %(levelname)s - %(message)s\"\n",
    ")\n",
    "logger = logging.getLogger(\"index_kb\")"
   ]
  },
  {
   "cell_type": "code",
   "execution_count": 6,
   "id": "f1fcd34a",
   "metadata": {},
   "outputs": [],
   "source": [
    "# Helper Functions\n",
    "def load_kb(file_path: str) -> List[Document]:\n",
    "    \"\"\"Load KB JSON into LangChain Documents.\"\"\"\n",
    "    logger.info(f\"Loading KB from {file_path}\")\n",
    "    with open(file_path, \"r\", encoding=\"utf-8\") as f:\n",
    "        kb_data = json.load(f)\n",
    "\n",
    "    documents = [\n",
    "        Document(\n",
    "            page_content=entry[\"answer_snippet\"],\n",
    "            metadata={\n",
    "                \"doc_id\": entry[\"doc_id\"],\n",
    "                \"question\": entry[\"question\"],\n",
    "                \"source\": entry[\"source\"],\n",
    "                \"last_updated\": entry[\"last_updated\"]\n",
    "            }\n",
    "        )\n",
    "        for entry in kb_data\n",
    "    ]\n",
    "    logger.info(f\"Loaded {len(documents)} documents from KB\")\n",
    "    return documents"
   ]
  },
  {
   "cell_type": "code",
   "execution_count": 15,
   "id": "3eab4dd0",
   "metadata": {},
   "outputs": [],
   "source": [
    "def init_pinecone(index_name: str, dimension: int = 768, cloud=\"aws\", region=\"us-east-1\"):\n",
    "    \"\"\"Initialize Pinecone index.\"\"\"\n",
    "    logger.info(f\"Initializing Pinecone index: {index_name}\")\n",
    "\n",
    "    try:\n",
    "        api_key = PINECONE_API_KEY\n",
    "\n",
    "        if not api_key or not region:\n",
    "            raise ValueError(\"Please set PINECONE_API_KEY and region variable\")\n",
    "\n",
    "        pc = Pinecone(api_key=api_key)\n",
    "\n",
    "        if index_name not in pc.list_indexes().names():\n",
    "            logger.info(f\"Index {index_name} not found. Creating...\")\n",
    "            pc.create_index(\n",
    "                name=index_name,\n",
    "                dimension=dimension,\n",
    "                metric=\"cosine\",\n",
    "                spec=ServerlessSpec(cloud=cloud, region=region)\n",
    "            )\n",
    "        else:\n",
    "            logger.info(f\"Index {index_name} already exists\")\n",
    "    except Exception as e:\n",
    "        logger.error(\"Error at pinecone \",e)\n",
    "\n",
    "    return pc.Index(index_name)"
   ]
  },
  {
   "cell_type": "code",
   "execution_count": null,
   "id": "1f67ca4f",
   "metadata": {},
   "outputs": [],
   "source": [
    "from langchain_pinecone import PineconeVectorStore\n",
    "def embed_and_upsert(docs: List[Document], index):\n",
    "    \"\"\"Embed documents in loop (embed_query) and upsert into Pinecone.\"\"\"\n",
    "    vectors = []\n",
    "    embeddings = GoogleGenerativeAIEmbeddings(\n",
    "    model=\"models/embedding-001\"\n",
    "    )\n",
    "    texts = []\n",
    "    metadatas = []\n",
    "    ids = []\n",
    "    for doc in docs:\n",
    "        texts.append(doc.page_content)\n",
    "        metadatas.append(doc.metadata)\n",
    "        ids.append(doc.metadata[\"doc_id\"])\n",
    "\n",
    "    try:\n",
    "        vectorstore = PineconeVectorStore(\n",
    "            index_name=INDEX_NAME,\n",
    "            embedding=embeddings,\n",
    "            namespace=None,           # set a namespace string if you want to isolate data\n",
    "            pinecone_api_key=PINECONE_API_KEY,  # optional; will default to env var\n",
    "        )\n",
    "        # Upsert (add) texts into Pinecone via LangChain:\n",
    "        # vec = embeddings.embed_query(doc.page_content)\n",
    "        # print(\"Content\", doc.page_content)\n",
    "        # print(\"Metadata\", doc.metadata)\n",
    "        # print(\"ids\", doc.metadata[\"doc_id\"])\n",
    "        vectorstore.add_texts(texts=texts, metadatas=metadatas, ids=ids)\n",
    "        \n",
    "    except Exception as e:\n",
    "        logger.error(f\"Error embedding {doc.metadata['doc_id']}: {e}\")\n",
    "\n",
    "    logger.info(f\"Upserting {len(texts)} vectors into Pinecone\")\n",
    "    #index.upsert(vectors)\n",
    "    logger.info(\"Upsert complete\")\n",
    "    return vectorstore\n"
   ]
  },
  {
   "cell_type": "code",
   "execution_count": 17,
   "id": "eb8e451b",
   "metadata": {},
   "outputs": [
    {
     "name": "stderr",
     "output_type": "stream",
     "text": [
      "2025-10-05 00:44:33,696 - INFO - Loading KB from datasets/self_critique_loop_dataset.json\n",
      "2025-10-05 00:44:33,698 - INFO - Loaded 30 documents from KB\n",
      "2025-10-05 00:44:33,699 - INFO - Initializing Pinecone index: assignment-sagar\n",
      "2025-10-05 00:44:35,302 - INFO - Index assignment-sagar not found. Creating...\n"
     ]
    },
    {
     "name": "stdout",
     "output_type": "stream",
     "text": [
      "Finished\n"
     ]
    },
    {
     "name": "stderr",
     "output_type": "stream",
     "text": [
      "2025-10-05 00:44:43,444 - INFO - Upserting 30 vectors into Pinecone\n",
      "2025-10-05 00:44:43,445 - INFO - ✅ Upsert complete\n"
     ]
    }
   ],
   "source": [
    "docs = load_kb(JSON_FILE)\n",
    "index = init_pinecone(INDEX_NAME)\n",
    "vectors = embed_and_upsert(docs, index)\n"
   ]
  },
  {
   "cell_type": "code",
   "execution_count": 18,
   "id": "bfa2a848",
   "metadata": {},
   "outputs": [
    {
     "name": "stderr",
     "output_type": "stream",
     "text": [
      "WARNING: All log messages before absl::InitializeLog() is called are written to STDERR\n",
      "I0000 00:00:1759605300.726903    9205 fork_posix.cc:71] Other threads are currently calling into gRPC, skipping fork() handlers\n"
     ]
    },
    {
     "name": "stdout",
     "output_type": "stream",
     "text": [
      "\n",
      "\u001b[1m[\u001b[0m\u001b[34;49mnotice\u001b[0m\u001b[1;39;49m]\u001b[0m\u001b[39;49m A new release of pip is available: \u001b[0m\u001b[31;49m24.0\u001b[0m\u001b[39;49m -> \u001b[0m\u001b[32;49m25.2\u001b[0m\n",
      "\u001b[1m[\u001b[0m\u001b[34;49mnotice\u001b[0m\u001b[1;39;49m]\u001b[0m\u001b[39;49m To update, run: \u001b[0m\u001b[32;49mpip install --upgrade pip\u001b[0m\n"
     ]
    }
   ],
   "source": [
    "!python -m pip install pydantic langchain langchain-community pdfplumber langchain-core langchain-google-genai langgraph faiss-cpu --quiet"
   ]
  },
  {
   "cell_type": "code",
   "execution_count": 19,
   "id": "70b8120f",
   "metadata": {},
   "outputs": [],
   "source": [
    "from langgraph.graph import StateGraph,START,END\n",
    "from langchain_core.prompts import PromptTemplate\n",
    "from langgraph.graph import StateGraph,START,END"
   ]
  },
  {
   "cell_type": "code",
   "execution_count": null,
   "id": "43301e71",
   "metadata": {},
   "outputs": [],
   "source": [
    "from langchain.chat_models import init_chat_model\n",
    "model_name = \"gemini-2.0-flash\"\n",
    "llm = init_chat_model(model_name, model_provider=\"google_genai\")\n",
    "logger.info(\"initilaized Langchain Chat model\")"
   ]
  },
  {
   "cell_type": "code",
   "execution_count": null,
   "id": "c8961256",
   "metadata": {},
   "outputs": [],
   "source": [
    "message = \"\"\"\n",
    "Answer this question using the provided context only. If the context does not have the content to answer the question, say context is irrelevant.\n",
    "Do not make up the answer, do not provide answer from outside the doc.\n",
    "{question}\n",
    "\n",
    "Context:\n",
    "{context}\n",
    "\"\"\"\n",
    "\n",
    "ragprompt = PromptTemplate.from_template(message)\n",
    "logger.info(\"initilaized Ragprompt\")"
   ]
  },
  {
   "cell_type": "code",
   "execution_count": null,
   "id": "ef444f47",
   "metadata": {},
   "outputs": [],
   "source": [
    "message = \"\"\"\n",
    "Check if the passed answer is complete for the question with respect to the provided context.\n",
    "If answer has completeness and satisfactory then return \"COMPLETE\" else return \"REFINE:<missing keywords>\".\n",
    "# Do not return any other explanation just return only \"COMPLETE\" or \"REFINE:<missing keywords>\"\n",
    "Question:\n",
    "{question}\n",
    "\n",
    "Context:\n",
    "{context}\n",
    "\n",
    "Answer:\n",
    "{answer}\n",
    "\"\"\"\n",
    "\n",
    "critiqueprompt = PromptTemplate.from_template(message)\n",
    "logger.info(\"initilaized critiqueprompt\")"
   ]
  },
  {
   "cell_type": "code",
   "execution_count": null,
   "id": "f40dcfd1",
   "metadata": {},
   "outputs": [],
   "source": [
    "#Defining state for the langgraph\n",
    "logger.info(\"initilaized state for the langgraph\")\n",
    "class ragState(TypedDict):\n",
    "    question: str\n",
    "    context: List[Document]\n",
    "    answer: str\n",
    "    critique: str"
   ]
  },
  {
   "cell_type": "code",
   "execution_count": 52,
   "id": "43418150",
   "metadata": {},
   "outputs": [],
   "source": [
    "retriever = vectors.as_retriever(search_type=\"similarity\", search_kwargs={\"k\": 5})\n",
    "retriever_1 = vectors.as_retriever(search_type=\"similarity\", search_kwargs={\"k\": 1})"
   ]
  },
  {
   "cell_type": "code",
   "execution_count": 86,
   "id": "f4f53b4d",
   "metadata": {},
   "outputs": [
    {
     "data": {
      "image/png": "[encoded data removed]",
      "text/plain": [
       "<langgraph.graph.state.CompiledStateGraph object at 0x7977f8120710>"
      ]
     },
     "execution_count": 86,
     "metadata": {},
     "output_type": "execute_result"
    }
   ],
   "source": [
    "# add modes\n",
    "def retriever_node(state:ragState):\n",
    "    ret_docs = retriever.invoke(state[\"question\"])\n",
    "    logger.info(\"Retriever Node Finished\")\n",
    "    return {\"context\":ret_docs}\n",
    "\n",
    "# generation node\n",
    "def generate(state:ragState):\n",
    "    doc_content = \"\\n\\n\".join(doc.page_content for doc in state[\"context\"])\n",
    "    message = ragprompt.invoke({\"question\":state[\"question\"],\"context\":doc_content})\n",
    "    response = llm.invoke(message)\n",
    "    logger.info(\"Generate Node Finished\")\n",
    "    return {\"answer\":response}\n",
    "\n",
    "# Critique node\n",
    "def critique(state:ragState):\n",
    "    doc_content = \"\\n\\n\".join(doc.page_content for doc in state[\"context\"])\n",
    "    message = critiqueprompt.invoke({\"question\":state[\"question\"],\"context\":doc_content,\"answer\":state['answer'].content})\n",
    "    response = llm.invoke(message)\n",
    "    logger.info(\"Critique Node Finished\")\n",
    "    return {\"critique\":response}\n",
    "\n",
    "# refine node\n",
    "def refine(state:ragState):\n",
    "    if (state['critique'].content.lower() == \"complete\"):\n",
    "        logger.info(\"Refine Node Finished\")\n",
    "        return {\"answer\":state['answer']}\n",
    "    else:\n",
    "        ret_docs = retriever_1.invoke(state[\"critique\"].content)\n",
    "        doc_content = \"\\n\\n\".join(doc.page_content for doc in state[\"context\"])\n",
    "        doc_content += ret_docs[0].page_content\n",
    "        message = ragprompt.invoke({\"question\":state[\"question\"],\"context\":doc_content})\n",
    "        response = llm.invoke(message)\n",
    "        logger.info(\"Refine Node Finished\")\n",
    "        return {\"answer\":response}\n",
    "\n",
    "builder = StateGraph(ragState).add_sequence([retriever_node,generate,critique,refine])\n",
    "builder.add_edge(START,\"retriever_node\")\n",
    "builder.add_edge([\"generate\",\"critique\",\"refine\"],END)\n",
    "raggraph = builder.compile()\n",
    "raggraph"
   ]
  },
  {
   "cell_type": "code",
   "execution_count": 87,
   "id": "1400436c",
   "metadata": {},
   "outputs": [
    {
     "name": "stderr",
     "output_type": "stream",
     "text": [
      "2025-10-05 01:44:00,906 - INFO - Retriever Node Finished\n",
      "2025-10-05 01:44:01,454 - INFO - Generate Node Finished\n",
      "2025-10-05 01:44:02,252 - INFO - Critique Node Finished\n",
      "2025-10-05 01:44:03,832 - INFO - Refine Node Finished\n"
     ]
    },
    {
     "data": {
      "text/plain": [
       "\"The context is irrelevant. The provided text mentions the importance of following well-defined patterns when addressing caching, but it doesn't specify what those patterns or best practices are.\""
      ]
     },
     "execution_count": 87,
     "metadata": {},
     "output_type": "execute_result"
    }
   ],
   "source": [
    "response = raggraph.invoke({\"question\":\"What are best practices for Caching?\"})\n",
    "response['answer'].content"
   ]
  },
  {
   "cell_type": "code",
   "execution_count": 88,
   "id": "0d4f4b49",
   "metadata": {},
   "outputs": [
    {
     "name": "stderr",
     "output_type": "stream",
     "text": [
      "2025-10-05 01:44:04,656 - INFO - Retriever Node Finished\n",
      "2025-10-05 01:44:05,177 - INFO - Generate Node Finished\n",
      "2025-10-05 01:44:05,738 - INFO - Critique Node Finished\n",
      "2025-10-05 01:44:07,167 - INFO - Refine Node Finished\n"
     ]
    },
    {
     "data": {
      "text/plain": [
       "'Context is irrelevant.'"
      ]
     },
     "execution_count": 88,
     "metadata": {},
     "output_type": "execute_result"
    }
   ],
   "source": [
    "response = raggraph.invoke({\"question\":\"How should I set up CI/CD pipelines?\"})\n",
    "response['answer'].content"
   ]
  },
  {
   "cell_type": "code",
   "execution_count": 89,
   "id": "2c110b34",
   "metadata": {},
   "outputs": [
    {
     "name": "stderr",
     "output_type": "stream",
     "text": [
      "2025-10-05 01:44:08,003 - INFO - Retriever Node Finished\n",
      "2025-10-05 01:44:08,594 - INFO - Generate Node Finished\n",
      "2025-10-05 01:44:09,206 - INFO - Critique Node Finished\n",
      "2025-10-05 01:44:10,773 - INFO - Refine Node Finished\n"
     ]
    },
    {
     "data": {
      "text/plain": [
       "'Context is irrelevant.'"
      ]
     },
     "execution_count": 89,
     "metadata": {},
     "output_type": "execute_result"
    }
   ],
   "source": [
    "response = raggraph.invoke({\"question\":\"What are performance tuning tips?\"})\n",
    "response['answer'].content"
   ]
  },
  {
   "cell_type": "code",
   "execution_count": 90,
   "id": "84532fb0",
   "metadata": {},
   "outputs": [
    {
     "name": "stderr",
     "output_type": "stream",
     "text": [
      "2025-10-05 01:44:11,584 - INFO - Retriever Node Finished\n",
      "2025-10-05 01:44:12,172 - INFO - Generate Node Finished\n",
      "2025-10-05 01:44:12,737 - INFO - Critique Node Finished\n",
      "2025-10-05 01:44:14,307 - INFO - Refine Node Finished\n"
     ]
    },
    {
     "data": {
      "text/plain": [
       "\"The context is irrelevant. While it mentions API versioning, it doesn't provide any information on *how* to version APIs.\""
      ]
     },
     "execution_count": 90,
     "metadata": {},
     "output_type": "execute_result"
    }
   ],
   "source": [
    "response = raggraph.invoke({\"question\":\"How do I version my APIs?”\"})\n",
    "response['answer'].content"
   ]
  },
  {
   "cell_type": "code",
   "execution_count": 91,
   "id": "83e727ae",
   "metadata": {},
   "outputs": [
    {
     "name": "stderr",
     "output_type": "stream",
     "text": [
      "2025-10-05 01:44:15,166 - INFO - Retriever Node Finished\n",
      "2025-10-05 01:44:15,868 - INFO - Generate Node Finished\n",
      "2025-10-05 01:44:16,624 - INFO - Critique Node Finished\n",
      "2025-10-05 01:44:18,090 - INFO - Refine Node Finished\n"
     ]
    },
    {
     "data": {
      "text/plain": [
       "\"When addressing error handling, it's important to follow well-defined patterns.\""
      ]
     },
     "execution_count": 91,
     "metadata": {},
     "output_type": "execute_result"
    }
   ],
   "source": [
    "response = raggraph.invoke({\"question\":\"What should I consider for error handling?\"})\n",
    "response['answer'].content"
   ]
  },
  {
   "cell_type": "code",
   "execution_count": null,
   "id": "0697b2b6",
   "metadata": {},
   "outputs": [],
   "source": []
  },
  {
   "cell_type": "code",
   "execution_count": null,
   "id": "7c289fd2",
   "metadata": {},
   "outputs": [],
   "source": []
  },
  {
   "cell_type": "code",
   "execution_count": null,
   "id": "9c201b50",
   "metadata": {},
   "outputs": [],
   "source": []
  },
  {
   "cell_type": "code",
   "execution_count": null,
   "id": "9dd09abf",
   "metadata": {},
   "outputs": [],
   "source": []
  }
 ],
 "metadata": {
  "kernelspec": {
   "display_name": "genai",
   "language": "python",
   "name": "python3"
  },
  "language_info": {
   "codemirror_mode": {
    "name": "ipython",
    "version": 3
   },
   "file_extension": ".py",
   "mimetype": "text/x-python",
   "name": "python",
   "nbconvert_exporter": "python",
   "pygments_lexer": "ipython3",
   "version": "3.11.13"
  }
 },
 "nbformat": 4,
 "nbformat_minor": 5
}
